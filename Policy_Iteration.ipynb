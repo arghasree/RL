{
 "cells": [
  {
   "cell_type": "markdown",
   "metadata": {
    "colab_type": "text",
    "id": "view-in-github"
   },
   "source": [
    "<a href=\"https://colab.research.google.com/github/arghasree/RL/blob/main/Policy_Iteration.ipynb\" target=\"_parent\"><img src=\"https://colab.research.google.com/assets/colab-badge.svg\" alt=\"Open In Colab\"/></a>"
   ]
  },
  {
   "cell_type": "markdown",
   "metadata": {
    "id": "C7QygO4JBIr9"
   },
   "source": [
    "### Policy evaluation\n",
    "- Evaluates a given policy\n",
    "- Evaluates how? By the value of each state\n",
    "- What does the value function tell us about the policy?\n"
   ]
  },
  {
   "cell_type": "code",
   "execution_count": null,
   "metadata": {
    "colab": {
     "base_uri": "https://localhost:8080/"
    },
    "collapsed": true,
    "id": "YOKQ89UNquvt",
    "outputId": "3812c483-91ab-4377-b20c-1cf1bbb5998c"
   },
   "outputs": [
    {
     "name": "stdout",
     "output_type": "stream",
     "text": [
      "Requirement already satisfied: gym in /usr/local/lib/python3.10/dist-packages (0.25.2)\n",
      "Collecting gym\n",
      "  Downloading gym-0.26.2.tar.gz (721 kB)\n",
      "\u001b[2K     \u001b[90m━━━━━━━━━━━━━━━━━━━━━━━━━━━━━━━━━━━━━━━━\u001b[0m \u001b[32m721.7/721.7 kB\u001b[0m \u001b[31m14.2 MB/s\u001b[0m eta \u001b[36m0:00:00\u001b[0m\n",
      "\u001b[?25h  Installing build dependencies ... \u001b[?25l\u001b[?25hdone\n",
      "  Getting requirements to build wheel ... \u001b[?25l\u001b[?25hdone\n",
      "  Preparing metadata (pyproject.toml) ... \u001b[?25l\u001b[?25hdone\n",
      "Requirement already satisfied: numpy>=1.18.0 in /usr/local/lib/python3.10/dist-packages (from gym) (1.26.4)\n",
      "Requirement already satisfied: cloudpickle>=1.2.0 in /usr/local/lib/python3.10/dist-packages (from gym) (3.1.0)\n",
      "Requirement already satisfied: gym_notices>=0.0.4 in /usr/local/lib/python3.10/dist-packages (from gym) (0.0.8)\n",
      "Building wheels for collected packages: gym\n",
      "  Building wheel for gym (pyproject.toml) ... \u001b[?25l\u001b[?25hdone\n",
      "  Created wheel for gym: filename=gym-0.26.2-py3-none-any.whl size=827626 sha256=5aadd16c1eb676c2a1bc149632fbc1a62cf6162c7341600a3014743a3bfccd47\n",
      "  Stored in directory: /root/.cache/pip/wheels/b9/22/6d/3e7b32d98451b4cd9d12417052affbeeeea012955d437da1da\n",
      "Successfully built gym\n",
      "Installing collected packages: gym\n",
      "  Attempting uninstall: gym\n",
      "    Found existing installation: gym 0.25.2\n",
      "    Uninstalling gym-0.25.2:\n",
      "      Successfully uninstalled gym-0.25.2\n",
      "\u001b[31mERROR: pip's dependency resolver does not currently take into account all the packages that are installed. This behaviour is the source of the following dependency conflicts.\n",
      "dopamine-rl 4.0.9 requires gym<=0.25.2, but you have gym 0.26.2 which is incompatible.\u001b[0m\u001b[31m\n",
      "\u001b[0mSuccessfully installed gym-0.26.2\n"
     ]
    }
   ],
   "source": [
    "!pip3 install gym --upgrade"
   ]
  },
  {
   "cell_type": "code",
   "execution_count": null,
   "metadata": {
    "id": "n1upXzHUqaJ8"
   },
   "outputs": [],
   "source": [
    "import torch\n",
    "import gym\n",
    "env = gym.make('FrozenLake-v1', render_mode = \"rgb_array\")"
   ]
  },
  {
   "cell_type": "code",
   "execution_count": null,
   "metadata": {
    "id": "FpEMZG2pqmFb"
   },
   "outputs": [],
   "source": [
    "gamma = 0.99 # Note 0.99 discount factor makes long-term values more priority than immediate rewards\n",
    "threshold = 0.0001"
   ]
  },
  {
   "cell_type": "markdown",
   "metadata": {
    "id": "-_imzt20AZqe"
   },
   "source": [
    "Recall the following:"
   ]
  },
  {
   "cell_type": "markdown",
   "metadata": {
    "id": "Km4fAK7kAXRp"
   },
   "source": [
    "![image.png](data:image/png;base64,iVBORw0KGgoAAAANSUhEUgAAAuIAAABqCAYAAAD5nzSjAAAMP2lDQ1BJQ0MgUHJvZmlsZQAASImVVwdYU8kWnltSIaEEEJASehNEpASQEkILIL0INkISIJQYA0HFji4quHYRARu6KqLYAbEjdhbF3hcLCsq6WLArb1JA133le/N9c+e//5z5z5lzZ+69A4DGCZ5EkoNqApArzpfGhgQwxySnMEldgAT0AR2QgROPnydhR0dHAFgG2r+XdzcAIm+vOsq1/tn/X4uWQJjHBwCJhjhNkMfPhfgAAHgVXyLNB4Ao5y2m5EvkGFagI4UBQrxQjjOUuEqO05R4j8ImPpYDcQsAZHUeT5oBAP0y5JkF/AyoQe+F2FksEIkB0GBC7JubO0kAcSrEttBGArFcn5X2g07G3zTTBjV5vIxBrJyLopADRXmSHN60/zMd/7vk5sgGfFjDqp4pDY2Vzxnm7Vb2pHA5Voe4R5wWGQWxNsQfRAKFPcQoNVMWmqC0R434eRyYM6AHsbOAFxgOsRHEweKcyAgVn5YuCuZCDFcIOlWUz42HWB/ihcK8oDiVzUbppFiVL7Q+Xcphq/hzPKnCr9zXA1l2Alul/zpTyFXpY/TCzPgkiKkQWxaIEiMhpkPslJcdF66yGVWYyYkcsJHKYuXxW0IcKxSHBCj1sYJ0aXCsyr4kN29gvtjGTBE3UoX35WfGhyrzg7XweYr44Vywy0IxO2FAR5g3JmJgLgJhYJBy7liXUJwQp9L5IMkPiFWOxamSnGiVPW4uzAmR8+YQu+YVxKnG4on5cEEq9fF0SX50vDJOvDCLFxatjAdfBiIABwQCJpDBmgYmgSwgautp6IF3yp5gwANSkAGEwFHFDIxIUvSI4TUOFII/IRKCvMFxAYpeISiA/NdBVnl1BOmK3gLFiGzwFOJcEA5y4L1MMUo86C0RPIGM6B/eebDyYbw5sMr7/z0/wH5n2JCJUDGyAY9MjQFLYhAxkBhKDCba4Ya4L+6NR8CrP6wuOAv3HJjHd3vCU0I74RHhOqGDcHuiqEj6U5SjQQfUD1blIu3HXODWUNMND8B9oDpUxvVwQ+CIu0I/bNwPenaDLEcVtzwrzJ+0/zaDH56Gyo7iTEEpQyj+FNufR9Lt6W6DKvJc/5gfZaxpg/nmDPb87J/zQ/YFsA3/2RJbiO3HzmInsfPYEawBMLHjWCPWih2V48HV9USxuga8xSriyYY6on/4G3iy8kzmOdc6dzt/UfblC6fK39GAM0kyTSrKyMxnsuEXQcjkivlOw5guzi6uAMi/L8rX15sYxXcD0Wv9zs37AwCf4/39/Ye/c2HHAdjrAbf/oe+cLQt+OtQAOHeIL5MWKDlcfiHAt4QG3GkGwARYAFs4HxfgDryBPwgCYSAKxINkMAFGnwnXuRRMATPAXFAMSsEysBpUgA1gM9gOdoF9oAEcASfBGXARXAbXwV24ejrBC9AL3oHPCIKQEBrCQAwQU8QKcUBcEBbiiwQhEUgskoykIhmIGJEhM5B5SCmyAqlANiE1yF7kEHISOY+0I7eRh0g38hr5hGKoOqqDGqPW6HCUhbLRcDQeHY9moJPRQnQ+ugQtR6vRnWg9ehK9iF5HO9AXaB8GMDVMDzPDHDEWxsGisBQsHZNis7ASrAyrxuqwJvicr2IdWA/2ESfiDJyJO8IVHIon4Hx8Mj4LX4xX4NvxerwFv4o/xHvxbwQawYjgQPAicAljCBmEKYRiQhlhK+Eg4TTcS52Ed0QiUY9oQ/SAezGZmEWcTlxMXEfcTTxBbCc+JvaRSCQDkgPJhxRF4pHyScWktaSdpOOkK6RO0geyGtmU7EIOJqeQxeQichl5B/kY+Qr5GfkzRZNiRfGiRFEElGmUpZQtlCbKJUon5TNVi2pD9aHGU7Ooc6nl1Drqaeo96hs1NTVzNU+1GDWR2hy1crU9aufUHqp9VNdWt1fnqI9Tl6kvUd+mfkL9tvobGo1mTfOnpdDyaUtoNbRTtAe0D3QG3YnOpQvos+mV9Hr6FfpLDYqGlQZbY4JGoUaZxn6NSxo9mhRNa02OJk9zlmal5iHNm5p9WgytEVpRWrlai7V2aJ3X6tImaVtrB2kLtOdrb9Y+pf2YgTEsGBwGnzGPsYVxmtGpQ9Sx0eHqZOmU6uzSadPp1dXWddVN1J2qW6l7VLdDD9Oz1uPq5egt1dund0Pv0xDjIewhwiGLhtQNuTLkvf5QfX99oX6J/m796/qfDJgGQQbZBssNGgzuG+KG9oYxhlMM1xueNuwZqjPUeyh/aMnQfUPvGKFG9kaxRtONNhu1GvUZmxiHGEuM1xqfMu4x0TPxN8kyWWVyzKTblGHqayoyXWV63PQ5U5fJZuYwy5ktzF4zI7NQM5nZJrM2s8/mNuYJ5kXmu83vW1AtWBbpFqssmi16LU0tR1vOsKy1vGNFsWJZZVqtsTpr9d7axjrJeoF1g3WXjb4N16bQptbmni3N1s92sm217TU7oh3LLttund1le9TezT7TvtL+kgPq4O4gcljn0D6MMMxzmHhY9bCbjuqObMcCx1rHh056ThFORU4NTi+HWw5PGb58+Nnh35zdnHOctzjfHaE9ImxE0YimEa9d7F34LpUu10bSRgaPnD2yceQrVwdXoet611tuDLfRbgvcmt2+unu4S93r3Ls9LD1SPao8brJ0WNGsxaxzngTPAM/Znkc8P3q5e+V77fP6y9vRO9t7h3fXKJtRwlFbRj32Mffh+Wzy6fBl+qb6bvTt8DPz4/lV+z3yt/AX+G/1f8a2Y2exd7JfBjgHSAMOBrzneHFmck4EYoEhgSWBbUHaQQlBFUEPgs2DM4Jrg3tD3EKmh5wIJYSGhy4Pvck15vK5NdzeMI+wmWEt4erhceEV4Y8i7COkEU2j0dFho1eOvhdpFSmObIgCUdyolVH3o22iJ0cfjiHGRMdUxjyNHRE7I/ZsHCNuYtyOuHfxAfFL4+8m2CbIEpoTNRLHJdYkvk8KTFqR1DFm+JiZYy4mGyaLkhtTSCmJKVtT+sYGjV09tnOc27jicTfG24yfOv78BMMJOROOTtSYyJu4P5WQmpS6I/ULL4pXzetL46ZVpfXyOfw1/BcCf8EqQbfQR7hC+CzdJ31FeleGT8bKjO5Mv8yyzB4RR1QhepUVmrUh6312VPa27P6cpJzdueTc1NxDYm1xtrhlksmkqZPaJQ6SYknHZK/Jqyf3SsOlW/OQvPF5jfk68Ee+VWYr+0X2sMC3oLLgw5TEKfunak0VT22dZj9t0bRnhcGFv03Hp/OnN88wmzF3xsOZ7JmbZiGz0mY1z7aYPX9255yQOdvnUudmz/29yLloRdHbeUnzmuYbz58z//EvIb/UFtOLpcU3F3gv2LAQXyha2LZo5KK1i76VCEoulDqXlpV+WcxffOHXEb+W/9q/JH1J21L3peuXEZeJl91Y7rd8+wqtFYUrHq8cvbJ+FXNVyaq3qyeuPl/mWrZhDXWNbE1HeUR541rLtcvWfqnIrLheGVC5u8qoalHV+3WCdVfW+6+v22C8oXTDp42ijbc2hWyqr7auLttM3Fyw+emWxC1nf2P9VrPVcGvp1q/bxNs6tsdub6nxqKnZYbRjaS1aK6vt3jlu5+Vdgbsa6xzrNu3W2126B+yR7Xm+N3XvjX3h+5r3s/bXHbA6UHWQcbCkHqmfVt/bkNnQ0Zjc2H4o7FBzk3fTwcNOh7cdMTtSeVT36NJj1GPzj/UfLzzed0JyoudkxsnHzROb754ac+paS0xL2+nw0+fOBJ85dZZ99vg5n3NHznudP3SBdaHhovvF+la31oO/u/1+sM29rf6Sx6XGy56Xm9pHtR+74nfl5NXAq2euca9dvB55vf1Gwo1bN8fd7LgluNV1O+f2qzsFdz7fnXOPcK/kvub9sgdGD6r/sPtjd4d7x9GHgQ9bH8U9uvuY//jFk7wnXzrnP6U9LXtm+qymy6XrSHdw9+XnY593vpC8+NxT/KfWn1UvbV8e+Mv/r9beMb2dr6Sv+l8vfmPwZttb17fNfdF9D97lvvv8vuSDwYftH1kfz35K+vTs85QvpC/lX+2+Nn0L/3avP7e/X8KT8hS/AhisaHo6AK+3AUBLBoABz2fUscrzn6IgyjOrAoH/hJVnREVxB6AO/r/H9MC/m5sA7NkCj19QX2McANE0AOI9ATpy5GAdOKspzpXyQoTngI0hX9Ny08C/Kcoz5w9x/9wCuaor+Ln9F5TsfGaIXUmnAAAAOGVYSWZNTQAqAAAACAABh2kABAAAAAEAAAAaAAAAAAACoAIABAAAAAEAAALioAMABAAAAAEAAABqAAAAAKsvVXkAADKiSURBVHgB7Z0J/GbV/MfvTMsoaSNFZCaTkCmRpNBkLIlIlJiktFgblYSKZiRCpDSpKJOkGtNiaaQoUdkqFCpbGbJmhKRF9Z/37f/9+T5n7vo8d3ue5/N9vX6/e5+7nOVzz/I53/M93zNp2rRpD0QSISAEhIAQEAJCQAgIASEgBBpFYHKjsSkyISAEhIAQEAJCQAgIASEgBGIERMRVEISAEBACQkAICAEhIASEQAsIiIi3ALqiFAJCQAgIASEgBISAEBACIuIqA0JACAgBISAEhIAQEAJCoAUERMRbAF1RCgEhIASEgBAQAkJACAgBEXGVASEgBISAEBACQkAICAEh0AICIuItgK4ohYAQEAJCQAgIASEgBISAiLjKgBAQAkJACAgBISAEhIAQaAEBEfEWQFeUQkAICAEhIASEgBAQAkJARFxlQAgIASEgBISAEBACQkAItICAiHgLoCtKISAEhIAQEAJCQAgIASEgIq4yIASEgBAQAkJACAgBISAEWkBARLwF0BWlEBACQkAICAEhIASEgBAQEVcZEAJCQAgIASEgBISAEBACLSAgIt4C6IpSCAgBISAEhIAQEAJCQAisKAiEQFEE9tprr+gJT3hCNHny5Phv0qRJkf8jHH4nSdr1pGcHvXbPPfdE73rXu6L7779/0KD0vhAQAkJACAgBISAEakNARLw2aEcv4Ne//vXRQx/60KHI2K677hqdffbZQ5FWJVIICAEhIASEgBAYTwRExMfzu/eV69///vfRxhtvnPruz372s9R7/gbacbTqiGnU+W3XV1hhhfg+xylTpkSrrrpqfCyjVd9jjz1ExD3oOhcCQkAICAEhIAQ6h4CIeOc+SXcT9La3vS1avHhxtNJKKyUm8te//nV05JFHJt6r4uIqq6wSbbnlltFWW20VzZgxI3r84x8frbhichFeZ511os022yz6yU9+UkXUCkMICAEhIASEgBAQApUjMGnatGkPVB6qAhxZBGbOnBl99KMfTc3f29/+9uiqq65KvV/1je222y7afffdo0033XS5oK+//vroDW94w3LXdUEICAEhIASEgBAQAl1AQF5TuvAVhigN3/rWt6KLLrooNcWQ9NVXXz31ftU3LrvssmjvvfeOXvGKV0ShacxTnvKUaM0116w6ypEIj9kNBkxnnnnmSORHmRAC44oAyohLL700+vrXvx5NnTp1XGFQvjuIALPn8+fPj/uaww47rIMp7EaSRMS78R2GKhVHHHFEdNtttyWmeeWVV45OPvnkxHt1XsR+fc8994xOOumk6IEHHpzkwaYcwinpRYDBCQtvaSTxgvPCF76w9wH9EgJCYGgQeO973xs97GEPi9Zee+3oLW95y9CkWwkdfQRQkGFOSl+z0047pZqSjj4S2TkcCyL+pCc9KSZoFIoqBRd5n/jEJ8ZO64pbwH322SfVPeD06dOjN7/5zVVCXTisU089Ndpvv/2ie++9N37nxS9+ceF3u/TgaqutFh177LGxG8aq07XDDjv0BHnzzTf3/LYfr3zlK0d+IMOC4BNOOCE69NBDLdtDc6yzjFQFwrvf/e64jbTF2VWFq3AeRIBBNSTcZMmSJXYaDXPZnsiETmpHoC5+RMKf97znTaSfPvm///3vxO8nPvGJMS/Dw1kZGUXeNfJEHNvhBQsWRE9/+tMrJ8wU4G222Sb60pe+VHnYZQpmG8/eeuut0Uc+8pHUqPE5vskmm6Ter/PGj3/842ju3LlxFGjoqx6A1Zl2wmZRKmXq2c9+dqyxrjq+bbfddiLIv/3tb9Evf/nLid/+5K1vfWusOffXRvGcNoIycvrppw9N9uouI1UA8elPfzpiMIeJmHz6V4Ho8mG85CUvmbjITCB9nZdhLNs+/TqvF4E6+REphyOZXHHFFXYaHxkoPu1pT4ve+c53RvQ1RWUUeVctizUZpT/1qU+N7r777ug///lP/GcaSnNJhx3xn//85whPG0nyiEc8Itpggw2ihzzkIREbtPA+DQ2aFdzZQSBuuummpFcnrpGOCy+8MIKM/fznP6+cVNAZYi9Nev76179GO+64Y3TfffdNxD8OJ5/61KeiLbbYIjGr//73v2OzB75fG/Kxj30seu5znxuXs5e+9KV9JYHpXjT8eGeh7JqbRQLD9IUyyTfnD7LBiJ+yeuedd6YS3LyELFy4MFq2iDoOY/vtt4/rT947Ze5ffvnlcZnlHcjSKaeckvg6dqdo257xjGck3h+Vi3RGn/nMZ+Lv+Y1vfCN6z3ve0/mslS0jG220UfTIRz4yLsfmBtSOYRmmvvKHudftt9/eFxYHH3xw9OpXvzquH8yeXXfddX2Fo5eyEcAMEDKDsEZmz2XmeV6GsWz79I/i+YYbbhg99rGPjdv1u+66Kz4ab6CfgVfAXXA2sHTp0kQI1l9//ehxj3tcXL/ob6yPpX+izYYb/eUvf0l81y7WzY/oO1m3YLLLLrtEt9xyi/2Mj2984xvj2XV+zJs3L/rqV7/acz/pxyjyrlqI+HHHHRdtvfXWSRj2XKOhT9NWLlq0KC5oPS+4H9goZ5kdUCDRKq633npxQX/Ri15UOaEhOb6h++lPfxqhCR4nwfbrkksuSd3o55prrone9KY3tQIJxPkLX/hCTLB22223vrRyZ511VkzE+8kAjezXvva16MQTTyxMaHD/CPmGHO27776Vu1/0jSMDh+c85zkTjXiYRxbmsoHTqBNx8g3WmDQhWYOT+IGW//VTRliYS10tKwymIdEMuG+44YZCr7Pm4KijjoqfxVSMdRuSehDwg+o0j1XDVLbrQalboTLYX2ONNXITdcEFF0zUo/Dh7373u5n21nkKhSb40ezZs6MDDjggTvof//jH6GUve1mYjfg3M5FPfvKT4z6PNpgZ7TwZNd5Vi2kKWkE04d4eyAMLAYCkfOc73/GXe87/9a9/9fz2Pwj36quv9peWO8e+FhIOoZkzZ04tJJxI6aTouBGmYJlmGSdhNM60EjgnCSZBZW3AksLp5xpaBrRyxN/v1Pg//vGPWDNtGocwHVw3rQbn4GHCbA4DzYsvvjjCVjZPmMaHhCM0TnX4QLfwieNHP/pRKgnn/jgJddi87kBcnvWsZ3Uy+/2WEcoxbbIvn5ZB6q6VY46+3WYgBhaUR2wz8wRtn+0lgFZOJDwPsf7vo9FkNhZhwJTmNnZYynb/SAzXm9RD+oy0PpM6yjPf/OY3EzOG1hxrgzShDqeVBXunCX6Ekscka5drtOLMIDNDh9KqyO7do8a7atGIG/gcbQrVrpXRkEJkmNqwxgbyTSP/hz/8wYJLPFIAPv7xj8f3ysSXGFjBi1QazG0gfLNmzYruuOOOgm+OxmMszkzz2Q0mEAhmQIZZQu04Jh02CPP5YtoQby0sVEHzYMLC3jR3gUy3oYHmeRolb8dt71dxhBgxOEJw+5hlMjBOGnHwwHSDqVE6BMzm+jVnIqw6pKoyEmrHqZt+kR9pp+19xzveEWPgN82iPT788MNTs/flL385etSjHhXff/nLX57bVqcGpBu5CLz2ta+NDjzwwPg5+tms/R26XrZzMzuCDzBDxYyGn6mCIDOLW0Qw3T333HPjR+ljv/jFL8YD3zzu0RQ/sv6DgT3rncz8JilvtEGmrMLcF09ARWRUeNf/WEKRXPfxzG9+85uet3yj3nMj4cfUZT5RjYSjkYHs5ZFwgvGG/9gJNyE24oNIDYONadWYMHX9q1/9KjFYMMEG15PSxAc7fvExj3lMTwoxfUoSFrJSBkKNhpk+JL2D+Y7hQ6dal7BSHfn73/+eScLrir/L4WJTaVrxddddt2fFfxfSXUUZYZDoO34GfSEJJ69o7DAv8W0p1zHxgwAkCYuojISjDS/SVieFo2vFEGD9C4JmNc9lbFtlmxlB+ka095JeBNB8M1PlxddNfz3p3JvmolU+5phjCikAfZ2uix/xvU2zzcA/i4STNwYUtDkIpm1F9yIZFd5VOxH/7W9/G4Nr/1iEWVQoWAgLIXExVkToaNj6HEEDm+YRokhYZZ457bTTJqZ9n//8549lw8NAKWnqGxwf/vCHRx/4wAfKQNqpZ9EooSU0YeowbzHMZz/7WXs8PjKopHwmCT5WEbQHaYsnk94rc803jmhP8sQW8+U9N0r30UiZdM3MrIoyQtvk5Re/+IX/udz5tdde22OqwgMveMELlnuOCwcddNDEdWZ/JPUiwB4ACLb7//znP3Mja6NsYxdMf7z55pvnpm8cH8DphBcWYBYR2nJbmIvpYxG7asJtih95E0g29Cki2MQjKKSKupMdFd5VOxEPvaIUHRmz4QhaKcQ38PGFjH+2OIBH0NI2JYz48DKBUJD233//pqLuTDx4WMgiL3TgmGsMo6AJ9FJkgLfWWmv5V+Jzm+HxNwjbrrNuIm0w49/p59wIFNOYzDBJlkcAUx3MUhCUBltttdXyD7VwpaoywhSxF6bG84RFz16SyAIarM022yx+DHKRt4bHh6fz8gjgQ978h+dpwy30rpZtS984HsNZo0c/+tGFYEBJiXUBWuS5c+cWeoeHmuJHZh/OIs3QKiItsdiH0zch7BZrM8Rpz3N9VHhX7UQ8NFfAzjFPaNTN0wbk9sYbb8x7Jb7PtI51NEzXsXK4ScE+0uSZz3ymnY7V8corr4y+8pWvpOYZrXjRwVhqIC3csGlgi/rb3/62naYeza2Yf4DZnVCsrHM9C7vwvbK/rW6g5WRBjyQZge9///sTN7piJ15VGTEtqmVw8eLFdpp4ZC+AcGYkyW0sayLsuR/+8IeJYelidQjYzAZODfIW5vlYmy7bRciUT9+4nYdmYcy85gke6WzQS39aVHHTJD/aeOON42wUtXfnYWaZIe4I5cbIfHwh498o8K7aiXhomgLA+PXOEjaKYbQHWShqtE942EyZDTpaGRtdZcVV5T20QLYSmgplaakyjmEI6/3vf/+EVjFML40BLs2GTUICg1vCPAm3jscnbOiXGXMXsz2n7OCWqi5hEQ91AveiknQEWGRkkjSYsntNHasqIwyAbeaFtGMfnuan2PIWbpnOOyxaDgUNlkmWNyx7RsfBEGDQgxnbeeedVyqgpsu2iHj25wm1xXluDcHTTDwxK/N+urNjapYf0ddArMuud8J3ukk4C23Xw+Mo8K4Vw0xV/ZupA0ZsfhECm0vYoqgwPqaCzavDhz70oVKaO6+FLurzNowf91t4k7ANMGjs8A/OooDvfe974eM9vyE5dGzYQ9NQYoaB/dY4CgsTWYCRNBhhsRer/b3NYpcxCglMEftwzBrYtMHL5z//ef8zPvdu8iDplLeywiwTPoRZLGeL8dg4AZs7tAW2UOawww6L+KtTZs6cGeEtgw2JMM0BKzR2n/vc55bbzKHqdJB3NMcMmqiDaJvQyDAzRvtDevLs+kkTgyEGRdRhviPvFtU6VZ0nwquijBDODjvswGFC8tpI8h76kGdxV6jggBx4AuHJ3kRkBU4wRySvmL4wYKAthWjwDYvYQBeIIvUR4sXNKeWWuNkA7pOf/GS84Zx5w8rzRpEaeIkbRevy+eefH/FXVpou2zZLUjad/Tz/ute9LlbGYdJK/WU2Hk8yoXmshU27zkwOM4R5M0P2TtXH0GLAD5ST4jrkkENikyTqoHnMSXou6VqT/MjWsySlI+sag3izLy+qBBkF3lU7EQd0tCi+oWanwiQiToNuG0FQQIvssuQ/Kk7hTTCRKCsQcFYfh40H29jzh+tEPw2SFD6dm5kAYJM7rkQc27ejjz461dXZa17zmuiyyy4rvMgkCeumroUEpoh9OJ24F8r7GWec4S/F555kJU35L/dCcIH3mUHyC0l5hLrAH9N7ZdZYBMEX/smAC7tF6okXOhZ2nGUr7p133jnCo0zVgg0zdZPpel93Z8yYETGYx5c8U7ncQ5trrk3T0sFgCG8GdNS8w4C6jOYpLdx+rw9aRizeMuZVDJYZOHo8IdhJ7R+7KNtz4FbW7In9HnCrGS5kpuzQJlNu6JzDAYDla5AjM5eUB5tKt7AoxxAX+iHzNETfAGmrS5qoy10r21VgyeYufEPPMQgXhR71HfKaNDjEtprvDHFvi4iHGnHaUf6SFDLMnFIXEPJVRKkQP/z//7rAj3x6ks79d0KZUlQJMuy8q3bTFMAOpz/ROiQJfmtN+8B5WbHFnbznbeGKhAMxRJtGh4JmEs8VEGk6eKsURdwSoj03CTsWu17kCLGCRNXxx8ZDTQju/dJMLcAZE4mQQDaRrrJxhATGNxZhWOxciUcSBpsmeO9hk5gk8d8iaXCa9I5dmzp16gSGaGzRgOMuDO81ZotO+YEo1S0MPIyEM1DBPIn6s2DBgjhqBtl1zYBYXaVMsbEJ+eeb2Sp8TxT9d8nCxPu8D0la1nt13BukjPj0MGPixZMPvg8LxRh04omAMmzreWj/WEiVthDbFA+EbTaePp6sc+LFtz5tJVrMK664Iv5++BU222dmMuoYTOJejZlO+76UWzR5DBoh4BAiI+HkoWjZycpv2r0m63KXynYaHkWv8+3YyyEk4fY+bcKHP/zh5dYlMci23b/rcuFnacg6UreMX9hzzMonCe2n8ZN+vBJ1gR8l5ctfYxBvbgy5nuYq1b/DeVW8Kwy3qd+NaMQhBZ58h1P2ZJaGeJdddonzTScQriYuAog3fykzWsRmnd03EQgNjTEdOkInQIOMcKTxtnvxxeCfd0dkq9qDRwr9PPjgg+Mp/kIP9/EQ9vS33XZbH2+We4UOFG0iA6xQ0HjhlnKfffYJb3Xqd0hgKL8QaxpFiATlAgKOBgY/ylxHIBa4MMzy3sN7JuGA1a6nHelALC7Ip+3ESbzrrLPOxGuQiaLurSZeKnGy5ZZbRltssUX8BmtC2GjExLstw9Shapk3b16ERgyh7kKirH4yu8ZiQ8zMTIou/PamEHWk29JT5DhIGbHwQ/Mqrl9yySUTJjj2nD9CEBh0YpNqmPr7du4VDlk7Itvz/oi20toGTNkgTSZ+AGkuae3eoEdmUTB5sTYaMyZfbvfYY4847349E5vD1SVN1uUule1B8KRMh/tTUE4xh4OYGx+gjZ47d26PxxD6JdpOZiEx42tTsBiwOkA6GPCFbkVRsExdpnhBiuxwGz8Y/DM8uNwWPwqSlPiTXUNNQcdsWZppkX+5Kt7lw2zyvBEizgicztrEj8zsGlNLVAymNvOmju0dfzTtjV0rMz3KFKSRbSqy73R8Z0AD5u9ZXP5omkiu5dl7+ffCc+z//FRSeD/rN0SMPxM7t6ld8sGGLk0InTkkMZzmtrgxGWA2ImkBmD3T5jGJwNAoZgl5RqPGQuO8Rt4aHMIrOzDyA1rfcIe2dexUVqdgemLyu9/9zk7jo3d1h91tlcJOrt5sCK1tWD/xbuOJeFFTMb/RhifCZdNP54nNOoS2TJvk4xmkjFg4HieuMWiBACC0u7R/tKE2sOM6sxxFvB54bWS4GJlwssRr0335ID2+/azaAxazKOYqjvYx1PaDD2YDphGnThchBFl5zbrXZF2uqmxn5aeJe/iatrqBRvSII47o2ZyKdUooeSjTmP1QpviOHM2VK2Z9/QhtLPWlHxPYMD6+hyfiXmnJs+TRyifr1Poxj+oKPwrznvTbBlLcg4gXkap4V5G46nimESIeek7B9scLTv9tOobKZYTRP5N37jWAVLYy4okLxAtNGovLGC3jbxmtGp1WkUrryZQ1EmXSYs9ipuA1NHZ9GI+QRHzdehdsPh/4NmWRhp8y9ffbPEfD6oVy4Fd2U1b5o8yhDYQwlGmcvcbNlx0fZ9I55NKTJkxAjj/++NgUiBkISCq+hiFSZclRUnxZ1/yUPdO97NzGrBZaFwZge+21V0xisNeuSrDt9eUJ7JIWwxqRIl6+UVGNuB+oeqJZJv2Y1+22227xK5BwcPADpqJh9VtGfPjbbrut/xnPRIUkm7YPUw1rn1kMBknNGyRTzkw8ybNrWUc/yAEvSBIeiZiexsc5i0UxV0nbxTYr7LR7mL3YLArPsANuaKvLddsllPNwgMm1qqTpulxF2a4q7/2GQ5mzMo3LV0zhQmGwRd1lES5acQajrHGgHlLO6G/wrV5WMKUyL1rsOQB/6YezWLy0k34g5s95hnbTbKVtG3h7t+ixK/yoSHq9MsWnO+td33cOwruy4qjzXiNEHO2gFz/6o5OxqRb8z/7gBz/wjxY+99PHZYl4SABxO8cfWhHsBtHoFtWG+JEZlV3yIAK4LJy5zKOGJ0aGDY0kjWaotbP7bR5Jsxe0y1USSr9ZSpnpwtB0i4EsdoN0CNzDHKao9tfnz597ou+vh+dMCxoZ51vuueee8R+DFlxLeXOR8N1+f2O65dN34YUXJgblZ5XKkClvJmTmC4kRZFyE8JnQzjFAwbtNWem3jPh4wnrn7cPtOQZspBntvQkDiTwibltZ847HzcLIOqL9silzwkERwx9lCkLOd65awvUa2BiHQmfuB2D99kthuEm/m6jLPl7/jfop27Nnz46dGvgw086NFKHcKtIvUx6YYcubPaKvoK1hUJFEwi09mPzgBo9viTcniDgzsEg/M++0s0bCCYPZfYi4rUfhWllhAbt5iuNdPwBkxthmjVC0eJJaJp6u8KMiafZ5LErEh513TS4CzKDPhFoga3gJ94Mf/GDsVxzSi71gv0KlNDFTDPudd0QjkvQO6aQjpyMqurGHHxl7opCXhnG4jwaThjZJ/DR00v22rvlGlzQU8R/eb1p92ckLg8bKa7bseeoBq+vp+JiqbULSPIrwTVk0yeDFfKVXlR7rnCy8JGIJ+WWNh0kZMmUuH3nXty0WVpFjWP+nTJlS5LXMZ8qUEQuITtjXLwZIabMklCvfEUIKyuTf42bxZx1tXUP4DFr53XffPXbRVyb+MJzwN0TKNP7cMxOU8Dk85Xips943XZf9N+oHW8g7BBtzh7w/qwP0pXnPch8lnZ8B8t/AnzNYxBQNJVmWUF+McKMsgJSTfgZ6/fi79/XI4k26ZveKHMNNfTz5tFl4lIXMVvUr/jsncZ2scKvkR1nx2D3//X267X7S0beLVuaSnuvqtf+x1xpTSKPvPz5AMbXM9KBNL7FobxA/rX61vif6RbJF+sxJftLzpBePKUXC9Y28b/CSwh23a3Q4fotdyz+aEkwpuiaUUd/Iks6qFz16LZEvO0WwwP4RIpEmDB69x4205wa9ztRwlvadTts6lEHj4n0WB/q6mEamZs2a1RNdGTLlTSYgrv2Ix4T2jzauHxmkjBBfaF4VKkbCNPkBA21fXsfm220/8AnDTfqN8sW33eEzDODCTYXCZ8r8th0p7Z2bb77ZTnuOnoiDf1mPRj2BFfjRZF0etGzjapI1X5gN5f2ZS1a+c96z3MeW25enNOiYPWQhfJGZamblENpyZqUQTPn6EWzRvQtWFEvnnHNOP0FNvBNaDNgsBT7O+Va0HWV9hk8E/v8nvo75tjN8Lul3lfwoKfzwmp8B9AuLw+f8b993DiPvasx2wq+EBUDcDh1++OExlhTs0F7Rg1zkHFstE/8h7VrekSkrSBY+h7EZZ5GZL7CM0tDC4fs6SyBvJlkkyZ5JO6K5YYOLOgQ7TtMS1BF+VpgsNKFhNC8b1sgk2WhmhdPEPTzLeAmnkP29fs9pyE0DQNnJ22TFx4MmhUVHTBXTMaLx8WYCPMs0bN2b+BAPcWDHyzQt5D/UpJrpCs8OKmz65SWNTHkiXpZMYS9t4jXEdq3IkRkJtFi0J5jOpGmh88IapIwQduh+kwWsaYJyxJvUUT/zOjafr7JEnO+ClyrKzcyZM+NNqTxRJJ2YIfQ7iAnz6W3DuZfmXhUf9CZlTJrsnbLHJutyFWW7bP7afB7STjlmQEm7RJljDUu/QnllQAexp17n1Y+8eMJ9KRgI0xewQRECN8lb9J8XR1f4UV46ue/7MG9GlfVuVbwrK4467zVGxFnIZvZiZAj3QTbaq8JHLJXLKhsVjs6Ea1nC6BtNN1NBuKZiBMpOXCZobyE5Jn76w66FR2+LlWfnFr7rf0Og6rSZZuDzpz/9yUfZyDmuAP3iWOyt83YsbSRhCZHYbI3dKmPaYO/kHdG2mi2qLztp77GKHMyw+YUAQWCwr+cPgczgAs6m9KgTdQkDRWYyGLCyBoA/w4jBBb9D2+Qq0uLbEcIrQqZsHQgDXOzn8UqEZi9NPKEs65LPh8nAqszgyr9r52XLiL1nR+81hmtZMwNhm5PXhhKe7yytLHM9SzBJpKxCYvbff//YxtbsbJnxYPMr0wwWaXez4vL3/CCD62kmTX4wwNolBHt5FvpRvy699NL42iD/2qrLVZXtQfLe9LteEcgeI4OS5yq9+PiBArjAX3BuQBuOEqCKNUld4UdFvrufhfaD/Kx3fd85CO/KiqPOe40RcYzpve2T2YwyrV2VNpTCZlpsRkh5Gsy5c+fGgwEANheGvuNh8RsrrgkTQlPEG4ZvwAfpwFlA1K8mLq/AoOFpg4TzTbzfVzrbfrZpzstfVfdDAlN2p9ci6fDTsH56Le1dFq+ZuQmNDzaPPl3YTjJda2nP0n6mxVHkOloLpnnNbIGZJIi3CY0hg1z7vp6s2TMcaQcY8ELg8EZA+vMk1A4lzVKh9fN10XxAY1PKde9WMSk+v6C8zCLapLAGvVa2jPj4ILXY3ppA6r2HAbtuR5upst9hp0ZbyCDLt01+oZSRZ3s/6chMk7mPIzx8dnuTL2ZIzzvvvIkZwTSzkH7Kjv+WtPVJfY93x0n68beOQMIpOzbIjS8u+8cMDaYlfCcW1CWFac/6Y1t1uUtl2+NR57lXBGbt61BnGrLCZvbcZkZ5zvgRM42DDhos3i7wI0tL1tGbxhWdjfJt/SC8Kytddd5rjIhDir0HAzJFY45mpCohPJt2g6xkEXFIjP94dDiehJMmKoMRe4hEeD8p3X5xX1FXaUnh0GH0s3tWUlhduIYWE6JljQ2uyei0uirs6OU1r3z7NEIwSB74zkaai5hvYEfpxRMYu27urxg8FiG29l6ZI1stGwnnPW+DaOF47WraoryFCxdO1DE8BEDK8uqN2Z1aPGz24r8NpmkLAhtQG5DYfgaUxSzxngtMy5/1fJ33ypYRn5aQVIbT4P5ZzkMijSbRBAKKJpiO0nDknl9sVsTvr23TbeEmzRj4AQGLxZKkn7JD/s3kDO047ZEfbJB+v6szdYg6xnX6C9oBrw2n7uJv3QTvF+xmW0TaqstdKttFcKriGTSrKALpx8P2o4rwBw0DW2iv1SU8zDiLKP+Kxt0FfpSXVtpu63epe2n9RhhOVbwrDLep35Obiij0JU68VY72CM93xqFZAfe9eC0T19l8xQuaJHyJm/gd3+xa0tG0ldxjCkzyIAL4eLZBEovF6nBLVgXWNAJs9BHaVTPK5joDs1AjNki8Xpvry05amH7dATsRmskFz0MswNkaMryVeJKRFmY/1/0iGnw+43LOy3bbbRftvffe8SXIS9L06jbbbDNBwnkQYh8uLPRh2jkaXU/8/cI6tL/Yf1J/vaClxCUp055ohf2WyP45O/ezE/ixblPKlhHKJzMWdE7ehSJ5QMNEPUxbRxO2i6aI4F2+J2Ur9HzkiTJkNS1swkC8Nh1izKI7LxBh9m5AmLnzi17tuX7LDmXDm7psv/32FmTEgI77Ps82EDHzSYiBf9/seC0Q8Al34rV74bGtutylsh1iUtdv+6bMwHdRwlkq2kzbxKeq9HaBH+XlhQG+KXjoY4rOBvi+cxh5V2Ma8XC6jqniKkd7fGAabBpoxH+Y+ELwD/JAwbQGH0f5mKHg1ogGmalrsydket13hkFQPT+9RqgubWRPhEPwg4VWZgpAg1PXItRBoMB2OGv1O3aVtqkIZaeo1isvTbj+s0XLvoNMew+iwDQ4Aomg/GKqwewN5dbMEFjAiOlVXYKNJOQEYotWkeleVv+jxSAdRoQhLSxaTLL1o/7xvDW8pHXzzTcvlOSjjz46njHiXeo8gxLiZ2Ei9ZYBCITU6jBaS0sT9pdZwm66NtiCtPO925QyZYS6xVqXNMGTjrlihUCHG4QweGNHQhM2Tpm5zJab8m/lztYj2DMQa1xp8gzfg840zW6fd5itYOMnnp26bOdR1qvw7XifemgzlWCf5p6u37LDt2QBrW2WRt1j1oAOn7UrpInF7GbrDrHGTJAyQVkNvf8wW2IadsMDvJK0/Hbfjm3U5a6VbcOi7qPVfUyeuiiYY/n1NLRXXtlRRZq7wI/y8kHdMUlbhG/3/XHYeddkn5k6z/1oDE1AHRpRyAGNJeI/TFq+6FjQjPEOnQDTimjNIBJ04JDyefPmFTafQRNiHTgdUxL5SEvLqF5nsybs7xE6VhahMtrvmmCKYkJ5CP/sHsdQe+HvlT2HGFDOEMoOHWWWQCIhndQhtJ403hByBp6QcHOnxaDSa+6ywuznHuQLbSCr8Uk3090MTiDC1unRkOILOkmjSZzUD2adIM1l6i3vXnXVVTFhNJLM90MzTr1l6hlyxEJSK2sQPrRimBnkeWjy3lbM9RlxtiVlyoj3ChKWYcPY8pFEFiGdXoEAMWUBOzMefGd8LyeZ9XgTKd+ZWlz+yLNzlw0SKUN8E7b0xmYccxQz/4DgYtrkZ3x8GIOUnWOPPTY67rjj4jJH/qhztP3gw0JWPGJ4s0Crk6xvCRVKrM+gjPi6VlQj3kZd7lrZ9t+0rnO+H+WMtiDLXLWu+IuE60kns1Z5bVSRMMNn2uZHYXqSfntFjK0vSnrOXxsF3tWYRpwRH502GgYawXAK1APb7zkdOiQJWzA6DRr2rI6UiskCHDR6LHqDvNOgUhEYOJDmMuKn1ZM6qzJhjcKzkO5XvepVcVbAGm1dVwcnkI/QZrOpb4AtoC1eowx5UpOUBrTB/EF80SBSpzDVYJo/iVwlhVHFNWyD0a6yCBfyBYmiXlN/mMIv8q2ZLeEPMwrqTNGpSNIPTmCAnS5HSBXuxGwhMholXI4yEGTmgDQVsfe2gSNxtOXmk7i9FC0j3r7Zv1/mnClx2k7ctEHsGfRhbsL3QYubJGjSMUdCvP140rNcw1sJfwwkIcEsIGRAyuwOs6VFysEgZQcTLsgOaYWoUVbQltrAjrzixYU8Ub5pH0ISbnkzrb152TJzFrufdWy6LnexbGfhU8U9M88yhUcVYVYdBjNIu+yySzxYwItQHdI2P8rLE5zN1jehUEryaJQUxijwrknLtBH1+TdLQq3ma0w5mvN7yPSey7bbbkpYgMhUPaQTAlCkM2kqbU3HAzFie2HIEZomNuXIGhQ1nb4uxYcGmdE/WEEEwK4LwgJHtOxNDFAwp2CgBgljB9a2hG9hbvTQUjGz0AXpahnx2EBWzQcwXnTSiKt/p4rzrpQdiD2DQgZv7MbcNWmjbDPgYc8QNvQpat5ZNW6YdqEkgOzOmTOn6uCHKrw2+VEeUMyw2vfBTPSYY47JeyW+Pwq8qzHTlEKIVvAQjaG5r0ELhjajCcGfs/m/ZFX9OJNwGl5sKSGWCLuWioSnl0JmXsy9HtptNCPjJjb4KDodWRc+foFUl9ycDUMZ8X7Zq9DMF/3GXSg7mERNXWb+hNKh7TKchlsbZRvyy2xDnreetDQPet27Mb3++usHDW7o32+LHxUBDo9ZCFYJRdveUeFdI0fE+ZDz58/nEItpx+13Xcd99913ImhMb8ZVGPicdtppE4vkWJjFzmBtCekJ3UK1lZaseFmLYDa82DaPk2ALjIkNDXCVG2WUxRDtP5t8IQzm29LgpaW762WERZAsdESYRWGhZ93SlbKDG17skLFBNvOWuvNeJvy2yjZ9MXbpabb+ZfLQz7OYzJm07f3I0tH2sQ1+lJdnBtPmVQ0zPO9ZKevdUeFdI0nEWczGYkmEBVy4natTWOBpi0PRhvhNI+qMt2tho81lxG2+wvHK4Ct90+llmhibYf6wP+uyYNfMQjiEgYP3wd3ldA+aNhpf8xpT1kZ80LjD93FhauUE0ts1GYYyYkoIZsNYkFmndKXs4AHG7OPrznO/eHa9bPebr7z3bGCNuWiT62fy0tXm/ab5UZG8svkbwnqU0JV02vujxLu6zU7SvkCB6+YxgY7V7+ZY4NVSj6BxtU4bbw1VblBUKiEtPwzOkHBz+8WmLKFrtKaTaL6rsVX1Xg2aTkfR+LCjZEEzQmNkg7ui7w/jc+QZTSKLTdvc4IlG3RbMMouD3WEXpetlBD/NthMlezmwCL4u6UrZsYEkHlTyFlrXhUVWuMNStrPy0O89zCSRLm7i02+eqnivKX5UJK1HHXVU7GCDGWHWexTxSjZqvGtkiThTYaw+5uPiReXII48sUiZKPQP5NDMM7ODGzaTAg3XiiSdOrHhmy2u80bQpbD5ivssZIAyDsK4Ad3+4ecTmlLI16sJ0MfbPbS7QZMBjg2ls9ducxcn73sNQRnB1aMQHDTGdZh3ShbJDvrCDxiNPHX3MoLgNU9keNK9J7zNLi5x++ulJt8f2WhP8qAi4DBL5Q1DEYJaSJ6PIu0bOa0r4EXHBZbskorlgBXVVgusp7N+Y9mKBXVt2cFXlp99w3ve+98WbYvA+JJINMhiYtCX2XYifb8OGL8OgETe8sJfGTAMyjnYx3LXSnqv72KTXlLrzkhY+jTqaTAbraGJwxzgMC627UkbScKXsoh3HzIqBObgOUx1My9cwXR/Wsl0lxng9wlsMvuMlyyNQJz9aPrbeK3yXRYsWxf0cHpf8YuLeJ3t/Wf8+SrxrZDXi9ulwRYbXDjoD82pi9wY9shgJbR5u18aVhDMLAPFGsO+aPXt2ayScBUkLFy6MB0f2bfEbPWwEAFMaVpBTtsC0LaHuVL37bVt5SYsXskKDjqtTfN4PAwknL10pI2m4gunOO+8cb5iGP/lhq4Np+Rqm68NatqvEmP5AJDwd0Tr5UXqsD96BiLOWD3/hRUk4b44i7xp5jXheYdD9/hFgSgn7LgQTILbGbsNGEt/FmMIwKxEOtjBRue666/rPpN4UAkJACAgBISAEhEBNCDS2s2ZN6VewLSHAjnveJhJb0KZJOCviIf/4izef5R4OzGNEwj0iOhcCQkAICAEhIAS6hICIeJe+xpCkBXeQbN7B1CdyyimnFN6OtmgWsTFlCmrdddeN3U+y6Ijz6dOnRxtssEFse4q3jSwx7w1Zz+ieEBACQkAICAEhIATaQkCmKW0hP6TxYofNIixzU9jlbOA6benSpV1OotImBISAEBACQkAIjDECI79Yc4y/beVZRwOON49hIOFLliwRCa+8BChAISAEhIAQEAJCoEoERMSrRHPEwzrhhBMmfIV3PavnnHNO15Oo9AkBISAEhIAQEAJjjoBsxMe8AJTJPq6Gbrnlltg2nMWRtkDSjj6sotfsHbyumPhzu+aPSff9tbvvvjtiG1+JEBACQkAICAEhIAS6jIBsxLv8dZQ2ISAEhIAQEAJCQAgIgZFFQKYpI/tplTEhIASEgBAQAkJACAiBLiMgIt7lr6O0CQEhIASEgBAQAkJACIwsAiLiI/tplTEhIASEgBAQAkJACAiBLiMgIt7lr6O0CQEhIASEgBAQAkJACIwsAiLiI/tplTEhIASEgBAQAkJACAiBLiMgIt7lr6O0CQEhIASEgBAQAkJACIwsAiLiI/tplTEhIASEgBAQAkJACAiBLiMgIt7lrzPmadt6662jK6+8Mjr55JPHHAllXwgIASEgBISAEBhFBETER/Grjkie9t5772jllVeOZsyYMSI5UjaEgBAQAkJACAgBIfA/BETE/4eFzjqGwEYbbRSn6Nprr+1YypQcISAEhIAQEAJCQAgMjoCI+OAYKoQaEFhvvfWiVVZZJQ55/vz5NcSgIIWAEBACQkAICAEh0C4CIuLt4q/YUxDYYYcd4jtLly6NbrjhhpSndFkICAEhIASEgBAQAsOLgIj48H67kUj5SiutFK255prL5WWbbbaJry1atGi5e7ogBISAEBACQkAICIFRQGDFUciE8jB8CMyePTvab7/9olVXXTVO/J133hkdf/zx0bnnnhv/xj78/vvvjxYsWDB8mVOKhYAQEAJCQAgIASFQAAFpxAuApEeqReCggw6KDjjggOi+++6LTj311PgPQn7IIYdEq622WrT22mvH9uHXXHNNdO+991YbuUITAkJACAgBISAEhEBHEBAR78iHGJdkrLjiitFuu+0WZxcyftJJJ0X33HNP/Hvy5Mmxu8JZs2bFv9GQS4SAEBACQkAICAEhMKoIyDRlVL9sR/O16aabRpMmTYpTt+OOO0ZLliyJbrrppuiuu+6Krr766ojFmeeff3506623RjfeeGNHc6FkCQEhIASEgBAQAkJgcAQmTZs27YHBg1EIQqAYAuuvv350wQUX9Dx8++23R3PmzJF3lB5U9EMICAEhIASEgBAYdQRkmjLqX7hj+UvSdOM1BVtxSLpECAgBISAEhIAQEALjgsAKa6211txxyazy2T4CG264YXTGGWdEaMGnTJkSL8zEbnyFFVaIls3ORIsXL24/kUqBEBACQkAICAEhIAQaQEA24g2ArCgeROCss86Kpk+fHtt/77TTTtHZZ58dE3DIN55SsA+XCAEhIASEgBAQAkJgXBCQacq4fOmW84n5CSQ8FFwYohFHLrroovC2fgsBISAEhIAQEAJCYGQREBEf2U/brYzdcccd0QMPPLgueOHChbGf8E022SQ688wzo9VXXz26+OKLo6uuuqpbiVZqhIAQEAJCQAgIASFQIwLymlIjuAq6F4Fdd901OvDAAyc04NzFh/jll18eHXroob0P65cQEAJCQAgIASEgBEYcARHxEf/AXcsem/ZsueWW0RprrBGxc+Ztt93WtSQqPUJACAgBISAEhIAQaAQBEfFGYFYkQkAICAEhIASEgBAQAkKgFwHZiPfioV9CQAgIASEgBISAEBACQqARBETEG4FZkQgBISAEhIAQEAJCQAgIgV4ERMR78dAvISAEhIAQEAJCQAgIASHQCAIi4o3ArEiEgBAQAkJACAgBISAEhEAvAiLivXjolxAQAkJACAgBISAEhIAQaAQBEfFGYFYkQkAICAEhIASEgBAQAkKgFwER8V489EsICAEhIASEgBAQAkJACDSCgIh4IzArEiEgBISAEBACQkAICAEh0IuAiHgvHvolBISAEBACQkAICAEhIAQaQUBEvBGYFYkQEAJCQAgIASEgBISAEOhFQES8Fw/9EgJCQAgIASEgBISAEBACjSAgIt4IzIpECAgBISAEhIAQEAJCQAj0IiAi3ouHfgkBISAEhIAQEAJCQAgIgUYQ+D+KSoRYzpyYNQAAAABJRU5ErkJggg==)"
   ]
  },
  {
   "cell_type": "code",
   "execution_count": null,
   "metadata": {
    "id": "bdgD7rK0rGgu"
   },
   "outputs": [],
   "source": [
    "def policy_evaluation(env, policy, gamma, threshold):\n",
    "  \"\"\"\n",
    "   Perform policy evaluation\n",
    "   Ouputs the value of each state for the given policy\n",
    "   @param env: OpenAI Gym environment\n",
    "   @param policy: policy matrix containing actions and their probability in each state > for eg. s1->[a1,a2,a3], s2->[a1,a2,a3] etc\n",
    "   @param gamma: discount factor\n",
    "   @param threshold: the evaluation will stop once values for all states are less than the threshold\n",
    "   @return: values of the given policy\n",
    "  \"\"\"\n",
    "  n_states = env.observation_space.n\n",
    "  n_actions = env.action_space.n\n",
    "  V_temp = torch.zeros(n_states)\n",
    "\n",
    "  while True:\n",
    "    V = V_temp.clone()\n",
    "    V_temp = torch.zeros(n_states)\n",
    "    for state_id in range(n_states):\n",
    "      # Here are they taking a sum over the action space or are they taking the value of the state for the action for which the value is maximum?\n",
    "      # Here the action is already given by the policy\n",
    "\n",
    "      action = int(policy[state_id].item())\n",
    "\n",
    "      \"\"\"Why we do this and not env.step(action)?\n",
    "      new_state, reward, is_done, truncated, info <-- env.step(action)  # trans_prob is inside <info> as a dictionary\n",
    "      For eg. (0, 0.0, False, False, {'prob': 0.3333333333333333})\n",
    "\n",
    "      trans_prob, new_state, reward, _ <-- env.env.P[state_id][action]  # Note that this new state is not all the states possible\n",
    "      For eg. [(0.3333333333333333, 1, 0.0, False), (0.3333333333333333, 0, 0.0, False), (0.3333333333333333, 0, 0.0, False)]\n",
    "\n",
    "      Therefore env.env.P[state_id][action] gives the set of all possible new states on taking action a.\n",
    "      env.step(action) chooses a new state given the probabilities and action a\n",
    "      \"\"\"\n",
    "\n",
    "      for trans_prob, new_state, reward, _ in env.env.P[state_id][action]:\n",
    "        V_temp[state_id] += trans_prob * (reward + gamma * V[int(new_state)])  # In VI, here the values are directly computed for the action that produces maximum value only and not the summation\n",
    "\n",
    "    max_delta = torch.max(torch.abs(V-V_temp))\n",
    "    if max_delta<=threshold:\n",
    "      break\n",
    "\n",
    "  return V_temp\n"
   ]
  },
  {
   "cell_type": "markdown",
   "metadata": {
    "id": "bz2GB_v3Bq0W"
   },
   "source": [
    "Policy Improvement:\n",
    "- Here the values are already provided\n",
    "- What does the value of each state look like? V = [0.1, 1, 2, ...]\n",
    "- Value of each each is not provided only state values are provided\n",
    "- Based on the values of the states, choose an appropriate action\n",
    "- How can we select an action based on the state values?\n",
    "- We need to calculate the action values for each state (this is not available in the state values)\n",
    "- Choose the action for which the state value is max\n"
   ]
  },
  {
   "cell_type": "code",
   "execution_count": null,
   "metadata": {
    "id": "Ey4H34L1Bp0o"
   },
   "outputs": [],
   "source": [
    "def policy_improvement(env, V, gamma):\n",
    "  \"\"\"\n",
    "  Obtain an improved policy based on the values\n",
    "  @param env: OpenAI Gym environment\n",
    "  @param V: policy values\n",
    "  @param gamma: discount factor\n",
    "  @return: the policy\n",
    "  \"\"\"\n",
    "  n_states = len(V)\n",
    "  n_actions = env.action_space.n\n",
    "  Q = torch.zeros((n_states, n_actions))\n",
    "  policy = torch.zeros(n_states)\n",
    "  for state_id in range(n_states):\n",
    "    Q[state_id] = torch.zeros(n_actions)  # Q[s,a] is the value of action a at state s\n",
    "    for action_id in range(len(Q[state_id])):\n",
    "      for trans_prob, new_state, reward, _ in env.env.P[state_id][action_id]:\n",
    "        Q[state_id][action_id] += trans_prob * (reward + gamma * V[int(new_state)])  # the value of each action is based on the values of the states it reaches and the reward it gets\n",
    "    policy[state_id] = torch.argmax(Q[state_id])  # argmax gives the action_id of the one with maximum value\n",
    "\n",
    "  return policy\n"
   ]
  },
  {
   "cell_type": "markdown",
   "metadata": {
    "id": "wQxF69tNRmWd"
   },
   "source": [
    "Now that we have the policy evaluation step (to find the values of each state) and the policy improvement step (to choose the actions that maximize the values of each state), we can put these two steps into a loop called the policy iteration function."
   ]
  },
  {
   "cell_type": "code",
   "execution_count": null,
   "metadata": {
    "id": "4N8ufHHESiDV"
   },
   "outputs": [],
   "source": [
    "def policy_iteration(env, gamma, threshold):\n",
    "  \"\"\"\n",
    "  Solve a given environment with policy iteration algorithm\n",
    "  @param env: OpenAI Gym environment\n",
    "  @param gamma: discount factor\n",
    "  @param threshold: the evaluation will stop once values\n",
    "                        for all states are less than the threshold\n",
    "  @return: optimal values and the optimal policy for the given\n",
    "                  environment\n",
    "  \"\"\"\n",
    "  # 1. Initialize a random policy\n",
    "  # 2. Compute how good the policy is - by the values of each states\n",
    "  # 3. Improve the policy - based on the values, choose the actions that has the max state value\n",
    "\n",
    "  # How long do you run the policy iterations?\n",
    "  # Till the policy converge\n",
    "\n",
    "  n_states = env.observation_space.n\n",
    "  n_actions = env.action_space.n\n",
    "  policy = torch.randint(high=n_actions, size=(n_states,)).float()\n",
    "\n",
    "  while True:\n",
    "    policy_before = policy.clone()\n",
    "    V = policy_evaluation(env, policy, gamma, threshold)\n",
    "    policy = policy_improvement(env, V, gamma)\n",
    "\n",
    "    if torch.equal(policy_before, policy):\n",
    "      return V, policy\n",
    "      break"
   ]
  },
  {
   "cell_type": "code",
   "execution_count": null,
   "metadata": {
    "colab": {
     "base_uri": "https://localhost:8080/"
    },
    "id": "nTIuTyzlY5XK",
    "outputId": "3d7016b3-22c3-4549-f584-3c2acb463ae5"
   },
   "outputs": [
    {
     "data": {
      "text/plain": [
       "tensor([0., 3., 3., 3., 0., 0., 0., 0., 3., 1., 0., 0., 0., 2., 1., 0.])"
      ]
     },
     "execution_count": 51,
     "metadata": {},
     "output_type": "execute_result"
    }
   ],
   "source": [
    "V_optimal, optimal_policy = policy_iteration(env, gamma, threshold)\n",
    "optimal_policy"
   ]
  },
  {
   "cell_type": "markdown",
   "metadata": {
    "id": "Dlo4RchRjAJH"
   },
   "source": [
    "What is the difference between VI and PI?\n",
    "- VI extracts values of a state. These values are optimal, and then extracts the optimal policy out of the values.\n",
    "- PI extracts values of a state (optimal), creates a policy, then again creates value based on the policy.\n",
    "- VI therefore does not depend on a policy. It loops through all possible actions.\n",
    "- PI's value function depends on the action given by the policy."
   ]
  },
  {
   "cell_type": "markdown",
   "metadata": {
    "id": "OUKQW7nodXJh"
   },
   "source": [
    "Which one to use VI or PI?\n",
    "- VI does not iteratively alternate between policy evaluation and improvement.\n",
    "- However, VI is slower than PI.\n",
    "- Why?\n",
    "- Because as VI has no access to policy, the value function extraction step longer to converge, as it has to go through each action individually.\n",
    "- So if the number of actions is large, use PI over VI.\n",
    "- VI is memory efficient"
   ]
  },
  {
   "cell_type": "code",
   "execution_count": null,
   "metadata": {
    "id": "b8o8Na0kkrhX"
   },
   "outputs": [],
   "source": []
  }
 ],
 "metadata": {
  "colab": {
   "authorship_tag": "ABX9TyM4CYL/uFHCFkHiGU/KhsLo",
   "include_colab_link": true,
   "provenance": []
  },
  "kernelspec": {
   "display_name": "Python 3",
   "name": "python3"
  },
  "language_info": {
   "name": "python"
  }
 },
 "nbformat": 4,
 "nbformat_minor": 0
}
